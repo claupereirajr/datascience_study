{
    "cells": [
        {
            "cell_type": "code",
            "execution_count": 1,
            "source": [
                "import os\n",
                "import fiona\n",
                "import pandas as pd\n",
                "import seaborn as sns\n",
                "import matplotlib.pyplot as plt\n",
                "import geopandas as geopd"
            ],
            "outputs": [
                {
                    "output_type": "stream",
                    "name": "stderr",
                    "text": [
                        "/home/claudinei/.local/lib/python3.6/site-packages/geopandas/_compat.py:110: UserWarning: The Shapely GEOS version (3.8.0-CAPI-1.13.1 ) is incompatible with the GEOS version PyGEOS was compiled with (3.9.1-CAPI-1.14.2). Conversions between both will be slow.\n",
                        "  shapely_geos_version, geos_capi_version_string\n"
                    ]
                }
            ],
            "metadata": {}
        },
        {
            "cell_type": "markdown",
            "source": [
                "## Data Informations\n",
                "All data shared from \n",
                "[CapitalBikeShare](https://www.capitalbikeshare.com/system-data)\n",
                "\n",
                "## Tasks to make\n",
                "- Get a total of members and casual clients\n",
                "- Explore how many clients use in normal work/study hour 6~9 12~14 18~20\n",
                "- Get the most stations used\n",
                "- Get the most bikes used by the time used\n"
            ],
            "metadata": {}
        },
        {
            "cell_type": "code",
            "execution_count": 2,
            "source": [
                "dataframe_stations = pd.read_json('https://gbfs.capitalbikeshare.com/gbfs/en/station_information.json', orient='values')\n",
                "dataframe_stations = pd.DataFrame(dataframe_stations.data.stations).set_index('station_id')\n",
                "print('Length: ',len(dataframe_stations))\n",
                "#dataframe_stations.head()"
            ],
            "outputs": [
                {
                    "output_type": "stream",
                    "name": "stdout",
                    "text": [
                        "Length:  645\n"
                    ]
                }
            ],
            "metadata": {}
        },
        {
            "cell_type": "code",
            "execution_count": 3,
            "source": [
                "dataframe_tripdata_raw = pd.read_csv('2016Q1-capitalbikeshare-tripdata.csv')\n",
                "print('Length: ',len(dataframe_tripdata_raw))\n",
                "#dataframe_tripdata_raw.head()"
            ],
            "outputs": [
                {
                    "output_type": "stream",
                    "name": "stdout",
                    "text": [
                        "Length:  552399\n"
                    ]
                }
            ],
            "metadata": {}
        },
        {
            "cell_type": "code",
            "execution_count": 17,
            "source": [
                "dataframe_tripdata = dataframe_tripdata_raw.copy()\n",
                "print('Length: ',len(dataframe_tripdata))\n",
                "#dataframe_tripdata.head()"
            ],
            "outputs": [
                {
                    "output_type": "stream",
                    "name": "stdout",
                    "text": [
                        "Length:  552399\n"
                    ]
                }
            ],
            "metadata": {}
        },
        {
            "cell_type": "code",
            "execution_count": 5,
            "source": [
                "dataframe_membertype = dataframe_tripdata.groupby('Member type')['Duration'].count().reset_index()\n",
                "dataframe_membertype.rename(columns={'Duration':'Total'}, inplace=True)\n",
                "#dataframe_membertype.head()"
            ],
            "outputs": [],
            "metadata": {}
        },
        {
            "cell_type": "markdown",
            "source": [
                "### Total of clients by the type\n",
                "\n",
                "| Member Type\t| Total |\n",
                "|----|----|\n",
                "| Casual\t| 84967 |\n",
                "| Member\t| 467432 |"
            ],
            "metadata": {}
        },
        {
            "cell_type": "code",
            "execution_count": 6,
            "source": [
                "dataframe_casualclients = dataframe_tripdata[dataframe_tripdata['Member type'] == 'Casual']\n",
                "print('Length: ',len(dataframe_casualclients))\n",
                "#dataframe_casualclients.head()"
            ],
            "outputs": [
                {
                    "output_type": "stream",
                    "name": "stdout",
                    "text": [
                        "Length:  84967\n"
                    ]
                }
            ],
            "metadata": {}
        },
        {
            "cell_type": "code",
            "execution_count": 7,
            "source": [
                "dataframe_memberclients = dataframe_tripdata[dataframe_tripdata['Member type'] == 'Member']\n",
                "print('Length: ',len(dataframe_memberclients))\n",
                "#dataframe_memberclients.head()"
            ],
            "outputs": [
                {
                    "output_type": "stream",
                    "name": "stdout",
                    "text": [
                        "Length:  467432\n"
                    ]
                }
            ],
            "metadata": {}
        },
        {
            "cell_type": "code",
            "execution_count": 8,
            "source": [
                "dataframe_casual_by_station = dataframe_casualclients.groupby('Start station number')['Member type'].count().reset_index()\n",
                "dataframe_casual_by_station.rename(columns={'Start station number':'station_id','Member type':'total'}, inplace=True)\n",
                "print('Length: ',len(dataframe_casual_by_station))\n",
                "#dataframe_casual_by_station.head()"
            ],
            "outputs": [
                {
                    "output_type": "stream",
                    "name": "stdout",
                    "text": [
                        "Length:  355\n"
                    ]
                }
            ],
            "metadata": {}
        },
        {
            "cell_type": "code",
            "execution_count": 9,
            "source": [
                "dataframe_member_by_station = dataframe_memberclients.groupby('Start station number')['Member type'].count().reset_index()\n",
                "dataframe_member_by_station.rename(columns={'Start station number':'station_id','Member type':'total'}, inplace=True)\n",
                "print('Length: ',len(dataframe_member_by_station))\n",
                "#dataframe_member_by_station.head()"
            ],
            "outputs": [
                {
                    "output_type": "stream",
                    "name": "stdout",
                    "text": [
                        "Length:  370\n"
                    ]
                }
            ],
            "metadata": {}
        },
        {
            "cell_type": "markdown",
            "source": [
                "## Morning Clients\n",
                "6am ~ 9am"
            ],
            "metadata": {}
        },
        {
            "cell_type": "code",
            "execution_count": 97,
            "source": [
                "dataframe_morning_clients = dataframe_tripdata.copy()\n",
                "dataframe_morning_clients['Start date'] = pd.to_datetime(dataframe_morning_clients['Start date'])\n",
                "dataframe_morning_clients.set_index('Start date',inplace=True)\n",
                "dataframe_morning_clients = dataframe_morning_clients.between_time('06:00:00','09:00:00')\n",
                "print('Total Morning Clients: ',len(dataframe_morning_clients))\n",
                "# dataframe_morning_clients.head()"
            ],
            "outputs": [
                {
                    "output_type": "stream",
                    "name": "stdout",
                    "text": [
                        "Total Morning Clients:  95095\n"
                    ]
                }
            ],
            "metadata": {}
        },
        {
            "cell_type": "markdown",
            "source": [
                "## Lunch Clients \n",
                "12am ~ 14pm"
            ],
            "metadata": {}
        },
        {
            "cell_type": "code",
            "execution_count": 98,
            "source": [
                "dataframe_lunch_clients = dataframe_tripdata.copy()\n",
                "dataframe_lunch_clients['Start date'] = pd.to_datetime(dataframe_lunch_clients['Start date'])\n",
                "dataframe_lunch_clients.set_index('Start date',inplace=True)\n",
                "dataframe_lunch_clients = dataframe_lunch_clients.between_time('12:00:00','14:00:00')\n",
                "print('Total LunchTime Clients: ',len(dataframe_lunch_clients))\n",
                "# dataframe_lunch_clients.head()"
            ],
            "outputs": [
                {
                    "output_type": "stream",
                    "name": "stdout",
                    "text": [
                        "Total LunchTime Clients:  61398\n"
                    ]
                }
            ],
            "metadata": {}
        },
        {
            "cell_type": "markdown",
            "source": [
                "## Go Home Clients\n",
                "18pm ~ 19pm"
            ],
            "metadata": {}
        },
        {
            "cell_type": "code",
            "execution_count": 101,
            "source": [
                "dataframe_night_clients = dataframe_tripdata.copy()\n",
                "dataframe_night_clients['Start date'] = pd.to_datetime(dataframe_night_clients['Start date'])\n",
                "dataframe_night_clients.set_index('Start date',inplace=True)\n",
                "dataframe_night_clients = dataframe_night_clients.between_time('18:00:00','20:00:00')\n",
                "print('Total Night Clients: ',len(dataframe_night_clients))\n",
                "# dataframe_night_clients.head()"
            ],
            "outputs": [
                {
                    "output_type": "stream",
                    "name": "stdout",
                    "text": [
                        "Total Night Clients:  85083\n"
                    ]
                }
            ],
            "metadata": {}
        },
        {
            "cell_type": "markdown",
            "source": [
                "## Import maps with GeoPandas\n",
                "Search for Virginia USA"
            ],
            "metadata": {}
        },
        {
            "cell_type": "code",
            "execution_count": 11,
            "source": [
                "url = \"https://d2ad6b4ur7yvpq.cloudfront.net/naturalearth-3.3.0/ne_110m_admin_1_states_provinces_shp.geojson\"\n",
                "df = geopd.read_file(url)\n",
                "map_virginia = df[df['diss_me'] == 3552]\n",
                "map_virginia"
            ],
            "outputs": [
                {
                    "output_type": "execute_result",
                    "data": {
                        "text/plain": [
                            "    scalerank adm1_code  diss_me adm1_cod_1 iso_3166_2  \\\n",
                            "39          2  USA-3552     3552   USA-3552      US-VA   \n",
                            "\n",
                            "                                wikipedia sr_sov_a3 sr_adm0_a3 iso_a2  \\\n",
                            "39  http://en.wikipedia.org/wiki/Virginia       US1        USA     US   \n",
                            "\n",
                            "    adm0_sr  ...  area_sqkm sameascity labelrank          featurec_1  \\\n",
                            "39        6  ...          0        -99         0  Admin-1 scale rank   \n",
                            "\n",
                            "                       admin name_len mapcolor9 mapcolor13  \\\n",
                            "39  United States of America        8         1          1   \n",
                            "\n",
                            "          featureclass                                           geometry  \n",
                            "39  Admin-1 scale rank  MULTIPOLYGON (((-75.37754 38.01538, -75.94003 ...  \n",
                            "\n",
                            "[1 rows x 41 columns]"
                        ],
                        "text/html": [
                            "<div>\n",
                            "<style scoped>\n",
                            "    .dataframe tbody tr th:only-of-type {\n",
                            "        vertical-align: middle;\n",
                            "    }\n",
                            "\n",
                            "    .dataframe tbody tr th {\n",
                            "        vertical-align: top;\n",
                            "    }\n",
                            "\n",
                            "    .dataframe thead th {\n",
                            "        text-align: right;\n",
                            "    }\n",
                            "</style>\n",
                            "<table border=\"1\" class=\"dataframe\">\n",
                            "  <thead>\n",
                            "    <tr style=\"text-align: right;\">\n",
                            "      <th></th>\n",
                            "      <th>scalerank</th>\n",
                            "      <th>adm1_code</th>\n",
                            "      <th>diss_me</th>\n",
                            "      <th>adm1_cod_1</th>\n",
                            "      <th>iso_3166_2</th>\n",
                            "      <th>wikipedia</th>\n",
                            "      <th>sr_sov_a3</th>\n",
                            "      <th>sr_adm0_a3</th>\n",
                            "      <th>iso_a2</th>\n",
                            "      <th>adm0_sr</th>\n",
                            "      <th>...</th>\n",
                            "      <th>area_sqkm</th>\n",
                            "      <th>sameascity</th>\n",
                            "      <th>labelrank</th>\n",
                            "      <th>featurec_1</th>\n",
                            "      <th>admin</th>\n",
                            "      <th>name_len</th>\n",
                            "      <th>mapcolor9</th>\n",
                            "      <th>mapcolor13</th>\n",
                            "      <th>featureclass</th>\n",
                            "      <th>geometry</th>\n",
                            "    </tr>\n",
                            "  </thead>\n",
                            "  <tbody>\n",
                            "    <tr>\n",
                            "      <th>39</th>\n",
                            "      <td>2</td>\n",
                            "      <td>USA-3552</td>\n",
                            "      <td>3552</td>\n",
                            "      <td>USA-3552</td>\n",
                            "      <td>US-VA</td>\n",
                            "      <td>http://en.wikipedia.org/wiki/Virginia</td>\n",
                            "      <td>US1</td>\n",
                            "      <td>USA</td>\n",
                            "      <td>US</td>\n",
                            "      <td>6</td>\n",
                            "      <td>...</td>\n",
                            "      <td>0</td>\n",
                            "      <td>-99</td>\n",
                            "      <td>0</td>\n",
                            "      <td>Admin-1 scale rank</td>\n",
                            "      <td>United States of America</td>\n",
                            "      <td>8</td>\n",
                            "      <td>1</td>\n",
                            "      <td>1</td>\n",
                            "      <td>Admin-1 scale rank</td>\n",
                            "      <td>MULTIPOLYGON (((-75.37754 38.01538, -75.94003 ...</td>\n",
                            "    </tr>\n",
                            "  </tbody>\n",
                            "</table>\n",
                            "<p>1 rows × 41 columns</p>\n",
                            "</div>"
                        ]
                    },
                    "metadata": {},
                    "execution_count": 11
                }
            ],
            "metadata": {}
        },
        {
            "cell_type": "code",
            "execution_count": 12,
            "source": [
                "map_virginia.plot(figsize=(5, 5))"
            ],
            "outputs": [
                {
                    "output_type": "execute_result",
                    "data": {
                        "text/plain": [
                            "<AxesSubplot:>"
                        ]
                    },
                    "metadata": {},
                    "execution_count": 12
                },
                {
                    "output_type": "display_data",
                    "data": {
                        "text/plain": [
                            "<Figure size 360x360 with 1 Axes>"
                        ],
                        "image/png": "[encoded data removed]"
                    },
                    "metadata": {
                        "needs_background": "light"
                    }
                }
            ],
            "metadata": {}
        }
    ],
    "metadata": {
        "orig_nbformat": 4,
        "language_info": {
            "name": "python",
            "version": "3.6.9",
            "mimetype": "text/x-python",
            "codemirror_mode": {
                "name": "ipython",
                "version": 3
            },
            "pygments_lexer": "ipython3",
            "nbconvert_exporter": "python",
            "file_extension": ".py"
        },
        "kernelspec": {
            "name": "python3",
            "display_name": "Python 3.6.9 64-bit"
        },
        "interpreter": {
            "hash": "31f2aee4e71d21fbe5cf8b01ff0e069b9275f58929596ceb00d14d90e3e16cd6"
        }
    },
    "nbformat": 4,
    "nbformat_minor": 2
}